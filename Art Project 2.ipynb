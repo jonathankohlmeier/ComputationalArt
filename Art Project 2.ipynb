{
 "cells": [
  {
   "cell_type": "markdown",
   "metadata": {},
   "source": [
    "# Mini Project 2"
   ]
  },
  {
   "cell_type": "markdown",
   "metadata": {},
   "source": [
    "### Test Picture - Noise"
   ]
  },
  {
   "cell_type": "code",
   "execution_count": null,
   "metadata": {
    "collapsed": false
   },
   "outputs": [],
   "source": [
    "from PIL import Image\n",
    "import random\n",
    "\n",
    "#takes an interval and scales it to a specified interval\n",
    "def remap_interval(val, input_start, input_end, output_start, output_end):\n",
    "    output_int = output_end - output_start\n",
    "    output_int = float(output_int)\n",
    "    \n",
    "    input_int = input_end - input_start\n",
    "    \n",
    "    scaled_val = (output_int*(val - input_start)/(input_int)) + output_start\n",
    "    return scaled_val\n",
    "\n",
    "\n",
    "\n",
    "\n",
    "def test_image(filename, x_size=350, y_size=350):\n",
    "    im = Image.new(\"RGB\", (x_size, y_size))\n",
    "    pixels = im.load()\n",
    "    for i in range(x_size):\n",
    "        for j in range(y_size):\n",
    "            x = remap_interval(i, 0, x_size, -1, 1)\n",
    "            y = remap_interval(j, 0, y_size, -1, 1)\n",
    "            pixels[i, j] = (random.randint(0, 255), random.randint(0, 255), random.randint(0,255))\n",
    "            \n",
    "    im.save(filename)"
   ]
  },
  {
   "cell_type": "code",
   "execution_count": null,
   "metadata": {
    "collapsed": true
   },
   "outputs": [],
   "source": [
    "test_image('noisetest.png', 500, 500)"
   ]
  },
  {
   "cell_type": "markdown",
   "metadata": {},
   "source": [
    "### Test Picture - Color"
   ]
  },
  {
   "cell_type": "code",
   "execution_count": null,
   "metadata": {
    "collapsed": false
   },
   "outputs": [],
   "source": [
    "from PIL import Image\n",
    "import random\n",
    "\n",
    "\n",
    "#takes an interval and scales it to a specified interval\n",
    "def remap_interval(val, input_start, input_end, output_start, output_end):\n",
    "    output_int = output_end - output_start\n",
    "    output_int = float(output_int)\n",
    "    \n",
    "    input_int = input_end - input_start\n",
    "    \n",
    "    scaled_val = (output_int*(val - input_start)/(input_int)) + output_start\n",
    "    return scaled_val\n",
    "\n",
    "\n",
    "\n",
    "#created a coor code based on the remap interval function\n",
    "def color_map(val):\n",
    "    color = remap_interval(val, -1, 1, 0, 225)\n",
    "    return int(color)\n",
    "\n",
    "def evaluate_random_function(f, x, y):\n",
    "    if f[0] == 'x':\n",
    "        return x\n",
    "    elif f[0] == 'y':\n",
    "        return y\n",
    "\n",
    "\n",
    "def generate_art(filename, x_size=350, y_size=350):\n",
    "    red_function = [\"x\"]\n",
    "    green_function = [\"y\"]\n",
    "    blue_function = [\"x\"]\n",
    "\n",
    "    im = Image.new(\"RGB\", (x_size, y_size))\n",
    "    pixels = im.load()\n",
    "    \n",
    "    for i in range(x_size):\n",
    "        for j in range(y_size):\n",
    "            x = remap_interval(i, 0, x_size, -1, 1)\n",
    "            y = remap_interval(j, 0, y_size, -1, 1)\n",
    "            pixels[i, j] = (\n",
    "                    color_map(evaluate_random_function(red_function, x, y)),\n",
    "                    color_map(evaluate_random_function(green_function, x, y)),\n",
    "                    color_map(evaluate_random_function(blue_function, x, y))\n",
    "                    )\n",
    "\n",
    "            \n",
    "    im.save(filename)"
   ]
  },
  {
   "cell_type": "code",
   "execution_count": null,
   "metadata": {
    "collapsed": false
   },
   "outputs": [],
   "source": [
    "generate_art('colortest.png', 500, 500)"
   ]
  },
  {
   "cell_type": "markdown",
   "metadata": {},
   "source": [
    "### Recursive Art"
   ]
  },
  {
   "cell_type": "code",
   "execution_count": 6,
   "metadata": {
    "collapsed": true
   },
   "outputs": [],
   "source": [
    "from PIL import Image\n",
    "from random import *\n",
    "from math import *\n",
    "\n",
    "#takes an interval and scales it to a specified interval\n",
    "def remap_interval(val, input_start, input_end, output_start, output_end):\n",
    "    output_int = output_end - output_start\n",
    "    output_int = float(output_int)\n",
    "    \n",
    "    input_int = input_end - input_start\n",
    "    \n",
    "    scaled_val = (output_int*(val - input_start)/(input_int)) + output_start\n",
    "    return scaled_val\n",
    "\n",
    "\n",
    "\n",
    "#created a coor code based on the remap interval function\n",
    "def color_map(val):\n",
    "    color = remap_interval(val, -1, 1, 0, 225)\n",
    "    return int(color)\n",
    "\n",
    "#builds random function from bank of functions from evaluate_random_function\n",
    "def build_random_function(min_depth, max_depth):\n",
    "    simple = ['x','y']\n",
    "    func = ['x','y','prod','average','cos_pi','sin_pi','cube','euler','atan_pi']\n",
    "    if max_depth == 1:\n",
    "        return simple[randint(0,1)]\n",
    "    else:\n",
    "        block = func[randint(2,7)]\n",
    "        if block == 'prod' or 'average': \n",
    "            return [block, build_random_function(min_depth-1, max_depth-1),\n",
    "                    build_random_function(min_depth-1, max_depth-1)]\n",
    "        elif not block == 'prod':\n",
    "            return [block, build_random_function(min_depth-1, max_depth-1)] \n",
    "        \n",
    "        \n",
    "#evaluates the random function f with inputs x,y\n",
    "\n",
    "def evaluate_random_function(f, x, y):\n",
    "    if f[0] == 'x':\n",
    "        return x\n",
    "    elif f[0] == 'y':\n",
    "        return y\n",
    "    \n",
    "    elif f[0] == 'prod':\n",
    "        return evaluate_random_function(f[1],x,y)*evaluate_random_function(f[2],x,y)\n",
    "    \n",
    "    elif f[0] == 'average':\n",
    "        return (evaluate_random_function(f[1],x,y)+evaluate_random_function(f[2],x,y))/2\n",
    "   \n",
    "    elif f[0] == 'cos_pi':\n",
    "        return cos(pi*evaluate_random_function(f[1],x,y))\n",
    "    \n",
    "    elif f[0] == 'sin_pi':\n",
    "        return sin(pi*evaluate_random_function(f[1],x,y))\n",
    "    \n",
    "    elif f[0] == 'cube':\n",
    "        return evaluate_random_function(f[1],x,y)**3\n",
    "    \n",
    "    elif f[0] == 'euler':\n",
    "        return exp(evaluate_random_function(f[1],x,y))\n",
    "    \n",
    "    elif f[0] == 'atan_pi':\n",
    "        return atan(pi*evaluate_random_function(f[1],x,y))\n",
    "\n",
    "\n",
    "\n",
    "def generate_art(filename, x_size=350, y_size=350):\n",
    "    red_function = build_random_function(7, 9)\n",
    "    green_function = build_random_function(7, 9)\n",
    "    blue_function = build_random_function(7, 9)\n",
    "\n",
    "    im = Image.new(\"RGB\", (x_size, y_size))\n",
    "    pixels = im.load()\n",
    "    \n",
    "    for i in range(x_size):\n",
    "        for j in range(y_size):\n",
    "            x = remap_interval(i, 0, x_size, -1, 1)\n",
    "            y = remap_interval(j, 0, y_size, -1, 1)\n",
    "            pixels[i, j] = (\n",
    "                    color_map(evaluate_random_function(red_function, x, y)),\n",
    "                    color_map(evaluate_random_function(green_function, x, y)),\n",
    "                    color_map(evaluate_random_function(blue_function, x, y))\n",
    "                    )\n",
    "\n",
    "            \n",
    "    im.save(filename)"
   ]
  },
  {
   "cell_type": "code",
   "execution_count": 7,
   "metadata": {
    "collapsed": false
   },
   "outputs": [],
   "source": [
    "generate_art('randcolortest2.png', 350, 350)"
   ]
  },
  {
   "cell_type": "code",
   "execution_count": null,
   "metadata": {
    "collapsed": true
   },
   "outputs": [],
   "source": []
  }
 ],
 "metadata": {
  "kernelspec": {
   "display_name": "Python 2",
   "language": "python",
   "name": "python2"
  },
  "language_info": {
   "codemirror_mode": {
    "name": "ipython",
    "version": 2
   },
   "file_extension": ".py",
   "mimetype": "text/x-python",
   "name": "python",
   "nbconvert_exporter": "python",
   "pygments_lexer": "ipython2",
   "version": "2.7.6"
  }
 },
 "nbformat": 4,
 "nbformat_minor": 1
}
