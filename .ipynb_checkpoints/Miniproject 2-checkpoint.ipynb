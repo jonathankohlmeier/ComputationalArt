{
 "cells": [
  {
   "cell_type": "code",
   "execution_count": null,
   "metadata": {
    "collapsed": true
   },
   "outputs": [],
   "source": [
    "from random import *\n",
    "from math import *\n",
    "import random\n",
    "from PIL import Image\n",
    "\n",
    "def color_map(val):\n",
    "    color_code = remap_interval(val, -1, 1, 0, 255)\n",
    "    return int(color_code)\n",
    "\n",
    "\n",
    "def remap_interval(val,\n",
    "                   input_interval_start,\n",
    "                   input_interval_end,\n",
    "                   output_interval_start,\n",
    "                   output_interval_end):\n",
    "    output_interval = output_interval_end - output_interval_start\n",
    "    output_interval = float(output_interval)\n",
    "    input_interval = input_interval_end-input_interval_start\n",
    "    scaled_val = (output_interval*(val - input_interval_start)/(input_interval)) + output_interval_start\n",
    "    return scaled_val\n",
    "\n",
    "\n",
    "\n",
    "def test_image(filename, x_size=350, y_size=350):\n",
    "    im = Image.new(\"RGB\", (x_size, y_size))\n",
    "    pixels = im.load()\n",
    "    for i in range(x_size):\n",
    "        for j in range(y_size):\n",
    "            x = remap_interval(i, 0, x_size, -1, 1)\n",
    "            y = remap_interval(j, 0, y_size, -1, 1)\n",
    "            pixels[i, j] = (random.randint(0, 255),  # Red channel\n",
    "                            random.randint(0, 255),  # Green channel\n",
    "                            random.randint(0, 255))  # Blue channel\n",
    "\n",
    "    im.save(filename)"
   ]
  },
  {
   "cell_type": "code",
   "execution_count": null,
   "metadata": {
    "collapsed": false
   },
   "outputs": [],
   "source": [
    "test_image('hello.png')"
   ]
  },
  {
   "cell_type": "code",
   "execution_count": 1,
   "metadata": {
    "collapsed": false
   },
   "outputs": [],
   "source": [
    "from random import *\n",
    "from math import *\n",
    "import random\n",
    "from PIL import Image\n",
    "\n",
    "\n",
    "def evaluate_random_function(f, x, y):\n",
    "    if f[0] == 'x':\n",
    "        return x\n",
    "    elif f[0] == 'y':\n",
    "        return y\n",
    "    elif f[0] == 'square':\n",
    "        return evaluate_random_function(f[1],x,y)**2\n",
    "    elif f[0] == 'average':\n",
    "        return (evaluate_random_function(f[1],x,y)+evaluate_random_function(f[2],x,y))/2\n",
    "    elif f[0] == 'cos_pi':\n",
    "        return cos(pi*evaluate_random_function(f[1],x,y))\n",
    "    elif f[0] == 'sin_pi':\n",
    "        return sin(pi*evaluate_random_function(f[1],x,y))\n",
    "    elif f[0] == 'prod':\n",
    "        return evaluate_random_function(f[1],x,y)*evaluate_random_function(f[2],x,y)\n",
    "\n",
    "\n",
    "def remap_interval(val,\n",
    "                   input_interval_start,\n",
    "                   input_interval_end,\n",
    "                   output_interval_start,\n",
    "                   output_interval_end):\n",
    "    output_interval = output_interval_end - output_interval_start\n",
    "    output_interval = float(output_interval)\n",
    "    input_interval = input_interval_end-input_interval_start\n",
    "    scaled_val = (output_interval*(val - input_interval_start)/(input_interval)) + output_interval_start\n",
    "    return scaled_val\n",
    "\n",
    "\n",
    "def color_map(val):\n",
    "    color_code = remap_interval(val, -1, 1, 0, 255)\n",
    "    return int(color_code)\n",
    "\n",
    "def generate_art(filename, x_size=350, y_size=350):\n",
    "    red_function = [\"x\"]\n",
    "    green_function = [\"y\"]\n",
    "    blue_function = [\"x\"]\n",
    "\n",
    "    # Create image and loop over all pixels\n",
    "    im = Image.new(\"RGB\", (x_size, y_size))\n",
    "    pixels = im.load()\n",
    "    for i in range(x_size):\n",
    "        for j in range(y_size):\n",
    "            x = remap_interval(i, 0, x_size, -1, 1)\n",
    "            y = remap_interval(j, 0, y_size, -1, 1)\n",
    "            pixels[i, j] = (\n",
    "                    color_map(evaluate_random_function(red_function, x, y)),\n",
    "                    color_map(evaluate_random_function(green_function, x, y)),\n",
    "                    color_map(evaluate_random_function(blue_function, x, y))\n",
    "                    )\n",
    "\n",
    "    im.save(filename)\n",
    "\n",
    "\n"
   ]
  },
  {
   "cell_type": "code",
   "execution_count": 2,
   "metadata": {
    "collapsed": false
   },
   "outputs": [],
   "source": [
    "generate_art('test.png')"
   ]
  },
  {
   "cell_type": "code",
   "execution_count": 18,
   "metadata": {
    "collapsed": true
   },
   "outputs": [],
   "source": [
    "from random import *\n",
    "from math import *\n",
    "import random\n",
    "from PIL import Image\n",
    "\n",
    "\n",
    "\n",
    "def color_map(val):\n",
    "    color_code = remap_interval(val, -1, 1, 0, 255)\n",
    "    return int(color_code)\n",
    "\n",
    "\n",
    "def remap_interval(val,\n",
    "                   input_interval_start,\n",
    "                   input_interval_end,\n",
    "                   output_interval_start,\n",
    "                   output_interval_end):\n",
    "    output_interval = output_interval_end - output_interval_start\n",
    "    output_interval = float(output_interval)\n",
    "    input_interval = input_interval_end-input_interval_start\n",
    "    scaled_val = (output_interval*(val - input_interval_start)/(input_interval)) + output_interval_start\n",
    "    return scaled_val\n",
    "\n",
    "\n",
    "def build_random_function(min_depth, max_depth):\n",
    "    hello = ['x','y']\n",
    "    func = ['x','y','cos_pi','sin_pi','prod','square','average']\n",
    "    if max_depth == 1:\n",
    "        return hello[randint(0,1)]\n",
    "    else:\n",
    "        block = func[randint(2,6)]\n",
    "        if block == 'prod' or 'average': \n",
    "            return [block, build_random_function(min_depth-1, max_depth-1),\n",
    "                    build_random_function(min_depth-1, max_depth-1)]\n",
    "        elif not block == 'prod':\n",
    "            return [block, build_random_function(min_depth-1, max_depth-1)] \n",
    "\n",
    "\n",
    "\n",
    "def evaluate_random_function(f, x, y):\n",
    "    if f[0] == 'x':\n",
    "        return x\n",
    "    elif f[0] == 'y':\n",
    "        return y\n",
    "    elif f[0] == 'square':\n",
    "        return evaluate_random_function(f[1],x,y)**2\n",
    "    elif f[0] == 'average':\n",
    "        return (evaluate_random_function(f[1],x,y)+evaluate_random_function(f[2],x,y))/2\n",
    "    elif f[0] == 'cos_pi':\n",
    "        return cos(pi*evaluate_random_function(f[1],x,y))\n",
    "    elif f[0] == 'sin_pi':\n",
    "        return sin(pi*evaluate_random_function(f[1],x,y))\n",
    "    elif f[0] == 'prod':\n",
    "        return evaluate_random_function(f[1],x,y)*evaluate_random_function(f[2],x,y)\n",
    "    \n",
    "    \n",
    "def generate_art(filename, x_size=350, y_size=350):\n",
    "    red_function = build_random_function(7, 9)\n",
    "    green_function = build_random_function(7, 9)\n",
    "    blue_function = build_random_function(7, 9)\n",
    "\n",
    "    # Create image and loop over all pixels\n",
    "    im = Image.new(\"RGB\", (x_size, y_size))\n",
    "    pixels = im.load()\n",
    "    for i in range(x_size):\n",
    "        for j in range(y_size):\n",
    "            x = remap_interval(i, 0, x_size, -1, 1)\n",
    "            y = remap_interval(j, 0, y_size, -1, 1)\n",
    "            pixels[i, j] = (\n",
    "                    color_map(evaluate_random_function(red_function, x, y)),\n",
    "                    color_map(evaluate_random_function(green_function, x, y)),\n",
    "                    color_map(evaluate_random_function(blue_function, x, y))\n",
    "                    )\n",
    "\n",
    "    im.save(filename)\n",
    "\n",
    "    \n",
    "    "
   ]
  },
  {
   "cell_type": "code",
   "execution_count": 21,
   "metadata": {
    "collapsed": false
   },
   "outputs": [],
   "source": [
    "#build_random_function(7,9)"
   ]
  },
  {
   "cell_type": "code",
   "execution_count": 12,
   "metadata": {
    "collapsed": false
   },
   "outputs": [
    {
     "ename": "TypeError",
     "evalue": "'int' object has no attribute '__getitem__'",
     "output_type": "error",
     "traceback": [
      "\u001b[0;31m---------------------------------------------------------------------------\u001b[0m",
      "\u001b[0;31mTypeError\u001b[0m                                 Traceback (most recent call last)",
      "\u001b[0;32m<ipython-input-12-31d3efe7b677>\u001b[0m in \u001b[0;36m<module>\u001b[0;34m()\u001b[0m\n\u001b[0;32m----> 1\u001b[0;31m \u001b[0mevaluate_random_function\u001b[0m\u001b[0;34m(\u001b[0m\u001b[0;36m1\u001b[0m\u001b[0;34m,\u001b[0m\u001b[0;36m3\u001b[0m\u001b[0;34m,\u001b[0m\u001b[0;36m4\u001b[0m\u001b[0;34m)\u001b[0m\u001b[0;34m\u001b[0m\u001b[0m\n\u001b[0m",
      "\u001b[0;32m<ipython-input-6-99bbee3f062e>\u001b[0m in \u001b[0;36mevaluate_random_function\u001b[0;34m(f, x, y)\u001b[0m\n\u001b[1;32m     39\u001b[0m \u001b[0;34m\u001b[0m\u001b[0m\n\u001b[1;32m     40\u001b[0m \u001b[0;32mdef\u001b[0m \u001b[0mevaluate_random_function\u001b[0m\u001b[0;34m(\u001b[0m\u001b[0mf\u001b[0m\u001b[0;34m,\u001b[0m \u001b[0mx\u001b[0m\u001b[0;34m,\u001b[0m \u001b[0my\u001b[0m\u001b[0;34m)\u001b[0m\u001b[0;34m:\u001b[0m\u001b[0;34m\u001b[0m\u001b[0m\n\u001b[0;32m---> 41\u001b[0;31m     \u001b[0;32mif\u001b[0m \u001b[0mf\u001b[0m\u001b[0;34m[\u001b[0m\u001b[0;36m0\u001b[0m\u001b[0;34m]\u001b[0m \u001b[0;34m==\u001b[0m \u001b[0;34m'x'\u001b[0m\u001b[0;34m:\u001b[0m\u001b[0;34m\u001b[0m\u001b[0m\n\u001b[0m\u001b[1;32m     42\u001b[0m         \u001b[0;32mreturn\u001b[0m \u001b[0mx\u001b[0m\u001b[0;34m\u001b[0m\u001b[0m\n\u001b[1;32m     43\u001b[0m     \u001b[0;32melif\u001b[0m \u001b[0mf\u001b[0m\u001b[0;34m[\u001b[0m\u001b[0;36m0\u001b[0m\u001b[0;34m]\u001b[0m \u001b[0;34m==\u001b[0m \u001b[0;34m'y'\u001b[0m\u001b[0;34m:\u001b[0m\u001b[0;34m\u001b[0m\u001b[0m\n",
      "\u001b[0;31mTypeError\u001b[0m: 'int' object has no attribute '__getitem__'"
     ]
    }
   ],
   "source": []
  },
  {
   "cell_type": "code",
   "execution_count": 20,
   "metadata": {
    "collapsed": true
   },
   "outputs": [],
   "source": [
    "generate_art('test13.png')"
   ]
  },
  {
   "cell_type": "code",
   "execution_count": null,
   "metadata": {
    "collapsed": true
   },
   "outputs": [],
   "source": []
  }
 ],
 "metadata": {
  "kernelspec": {
   "display_name": "Python 2",
   "language": "python",
   "name": "python2"
  },
  "language_info": {
   "codemirror_mode": {
    "name": "ipython",
    "version": 2
   },
   "file_extension": ".py",
   "mimetype": "text/x-python",
   "name": "python",
   "nbconvert_exporter": "python",
   "pygments_lexer": "ipython2",
   "version": "2.7.6"
  }
 },
 "nbformat": 4,
 "nbformat_minor": 1
}
